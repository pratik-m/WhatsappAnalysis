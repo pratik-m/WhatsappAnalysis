{
 "cells": [
  {
   "cell_type": "markdown",
   "metadata": {},
   "source": [
    "# Whatsapp Chat data Analysis \n",
    "\n",
    "Things to do \n",
    "- general stats\n",
    "- general stats per user\n",
    "- sentiment analysis\n",
    "- repsonse time analysis\n",
    "- AI Chat bot\n",
    "- "
   ]
  },
  {
   "cell_type": "code",
   "execution_count": 2,
   "metadata": {},
   "outputs": [],
   "source": [
    "import sys\n",
    "import process_data"
   ]
  },
  {
   "cell_type": "markdown",
   "metadata": {},
   "source": [
    "# 1. Import and preprocessing of data"
   ]
  },
  {
   "cell_type": "markdown",
   "metadata": {},
   "source": [
    "## 1.1 Import Data"
   ]
  },
  {
   "cell_type": "markdown",
   "metadata": {},
   "source": [
    "The export of the WhatsApp chat includes the data columns - Date, time, user and the message. The load_file function reads the file and convert the data into a pandas dataframe. \n",
    "The load_file function reads individual lines and pushes the data into an array. A message can be multiline as well, in such cases, append back the message to the last entry in the array.\n",
    "The dataframe returned has three columns - Datetime, user and the message\n",
    "\n",
    "The message is parsed based on the regular expression.\n",
    "\n",
    "TODO: Each platform has a diffrent export pattern. Accomodate all the pattern. Currently the regex looks for the format __*[DD/MM/YYYY HH:MM:SS AM/PM] Username: Message*__\n"
   ]
  },
  {
   "cell_type": "code",
   "execution_count": 3,
   "metadata": {},
   "outputs": [
    {
     "name": "stdout",
     "output_type": "stream",
     "text": [
      "Import file begins..\n",
      "Total rows imported: 17852\n",
      "Import file complete..\n"
     ]
    }
   ],
   "source": [
    "df = process_data.load_file('_chat.txt')"
   ]
  },
  {
   "cell_type": "markdown",
   "metadata": {},
   "source": [
    "## 1.2 Preprocessing the data"
   ]
  },
  {
   "cell_type": "markdown",
   "metadata": {},
   "source": [
    "Data Preprocessing is that step in which the data gets transformed, or Encoded, to bring it to such a state that now the machine can easily parse it. In other words, the features of the data can now be easily interpreted by the algorithm.\n",
    "\n",
    "The preprocess function takes in the dataframe and cleans up certain attributes of the data. It also adds additonal columns related to the date.\n",
    "The attribute message_clean is added which only contains words and strips out emojis and other characters and numbers. \n",
    "It also formats datetime as a datetime data type. Based on the datetime, we create auxillary columns - date, time, hour, week, weekday, month and year"
   ]
  },
  {
   "cell_type": "code",
   "execution_count": 13,
   "metadata": {},
   "outputs": [],
   "source": [
    "df = process_data.preprocess(df)"
   ]
  },
  {
   "cell_type": "markdown",
   "metadata": {},
   "source": [
    "Lets check the columns created"
   ]
  },
  {
   "cell_type": "code",
   "execution_count": 12,
   "metadata": {},
   "outputs": [
    {
     "name": "stdout",
     "output_type": "stream",
     "text": [
      "<class 'pandas.core.frame.DataFrame'>\n",
      "RangeIndex: 17852 entries, 0 to 17851\n",
      "Data columns (total 11 columns):\n",
      "datetime         17852 non-null datetime64[ns]\n",
      "user             17852 non-null object\n",
      "message          17852 non-null object\n",
      "message_clean    17852 non-null object\n",
      "date             17852 non-null datetime64[ns]\n",
      "time             17852 non-null object\n",
      "hour             17852 non-null int64\n",
      "week             17852 non-null int64\n",
      "weekday          17852 non-null int64\n",
      "month            17852 non-null int64\n",
      "year             17852 non-null int64\n",
      "dtypes: datetime64[ns](2), int64(5), object(4)\n",
      "memory usage: 1.5+ MB\n"
     ]
    }
   ],
   "source": [
    "df.info()"
   ]
  },
  {
   "cell_type": "code",
   "execution_count": null,
   "metadata": {},
   "outputs": [],
   "source": []
  }
 ],
 "metadata": {
  "kernelspec": {
   "display_name": "Python 3",
   "language": "python",
   "name": "python3"
  },
  "language_info": {
   "codemirror_mode": {
    "name": "ipython",
    "version": 3
   },
   "file_extension": ".py",
   "mimetype": "text/x-python",
   "name": "python",
   "nbconvert_exporter": "python",
   "pygments_lexer": "ipython3",
   "version": "3.7.4"
  }
 },
 "nbformat": 4,
 "nbformat_minor": 4
}
